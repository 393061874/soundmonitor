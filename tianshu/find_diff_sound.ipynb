{
 "cells": [
  {
   "cell_type": "code",
   "execution_count": 5,
   "metadata": {},
   "outputs": [
    {
     "name": "stdout",
     "output_type": "stream",
     "text": [
      "分析文件 0000.wav\n",
      "读取音频文件 (9600000,) 16000\n",
      "切分 (3000, 3200)\n",
      "取到特征值 (3000, 32, 18)\n",
      "t-sne降维处理 (3000, 2)\n",
      "保存完成\n"
     ]
    }
   ],
   "source": [
    "import functions as func\n",
    "import numpy as np\n",
    "from sklearn.cluster import DBSCAN\n",
    "\n",
    "\n",
    "file_path = '0000.wav'  # 目标文件\n",
    "print('分析文件', file_path)\n",
    "\n",
    "# 读取音频文件\n",
    "data, sr = func.read_audio_file(file_path)\n",
    "print('读取音频文件', data.shape, sr)\n",
    "sample_size = sr // 5\n",
    "sample_number = len(data) // sample_size\n",
    "\n",
    "# 切分为0.2s的小段\n",
    "sample_list = data[:sample_size * sample_number].reshape((sample_number, sample_size))\n",
    "print('切分', sample_list.shape)\n",
    "\n",
    "# 取特征值\n",
    "mfcc_data = np.array([func.get_mfcc(sample, sr, 32) for sample in sample_list])\n",
    "print('取到特征值', mfcc_data.shape)\n",
    "\n",
    "# t-sne降维\n",
    "tsne_data = func.get_tsne(mfcc_data, 2)  # 降至2维\n",
    "print('t-sne降维处理', tsne_data.shape)\n",
    "\n",
    "# 计算结果存储为csv文件\n",
    "func.save_csv_file(tsne_data, 'temp.csv')\n",
    "print('保存完成')"
   ]
  },
  {
   "cell_type": "code",
   "execution_count": 6,
   "metadata": {
    "scrolled": false
   },
   "outputs": [
    {
     "name": "stdout",
     "output_type": "stream",
     "text": [
      "(3000, 2)\n",
      "读取音频文件 (9600000,) 16000\n"
     ]
    },
    {
     "data": {
      "application/vnd.jupyter.widget-view+json": {
       "model_id": "ab58799af2f043e6b009fc5df9be141c",
       "version_major": 2,
       "version_minor": 0
      },
      "text/plain": [
       "FigureWidget({\n",
       "    'data': [{'mode': 'markers',\n",
       "              'type': 'scatter',\n",
       "              'uid': 'ded13af…"
      ]
     },
     "metadata": {},
     "output_type": "display_data"
    }
   ],
   "source": [
    "import functions as func\n",
    "import numpy as np\n",
    "from sklearn.cluster import DBSCAN\n",
    "\n",
    "\n",
    "# 加载csv文件内容\n",
    "tsne_data = func.read_csv_file('temp.csv')\n",
    "print(tsne_data.shape)\n",
    "\n",
    "# 读取音频文件\n",
    "file_path = '0000.wav'  # 目标文件\n",
    "data, sr = func.read_audio_file(file_path)\n",
    "print('读取音频文件', data.shape, sr)\n",
    "sample_size = sr // 5\n",
    "sample_number = len(data) // sample_size\n",
    "\n",
    "# 可交互式绘图\n",
    "import plotly.graph_objs as go\n",
    "import plotly as py\n",
    "\n",
    "f = go.FigureWidget([go.Scatter(x=tsne_data[:, 0], y=tsne_data[:, 1], mode='markers')])\n",
    "f.layout.hovermode = 'closest'  # 鼠标吸附到最近点\n",
    "\n",
    "def click_callback(trace, points, selector):\n",
    "    import functions\n",
    "    index = points.point_inds[0]\n",
    "    if 2 <= index <= sample_number - 2:\n",
    "        start = (index - 2) * sample_size\n",
    "        end = (index + 3) * sample_size\n",
    "        play = data[start: end]\n",
    "        func.play_audio(play, sr)  # 播放这一段音频数据\n",
    "        \n",
    "scatter = f.data[0]\n",
    "scatter.on_click(click_callback)\n",
    "f"
   ]
  },
  {
   "cell_type": "code",
   "execution_count": 7,
   "metadata": {},
   "outputs": [
    {
     "name": "stdout",
     "output_type": "stream",
     "text": [
      "读取音频文件 (9600000,) 16000\n",
      "DBSCAN聚类结果 {0, 1, 2, 3, -1}\n"
     ]
    },
    {
     "data": {
      "image/png": "[encoded data removed]",
      "text/plain": [
       "<Figure size 432x288 with 1 Axes>"
      ]
     },
     "metadata": {
      "needs_background": "light"
     },
     "output_type": "display_data"
    }
   ],
   "source": [
    "import functions as func\n",
    "import numpy as np\n",
    "from sklearn.cluster import DBSCAN\n",
    "\n",
    "\n",
    "# 加载csv文件内容\n",
    "tsne_data = func.read_csv_file('temp.csv')\n",
    "\n",
    "# 读取音频文件\n",
    "data, sr = func.read_audio_file(file_path)\n",
    "print('读取音频文件', data.shape, sr)\n",
    "sample_size = sr // 5\n",
    "sample_number = len(data) // sample_size\n",
    "\n",
    "# 聚类\n",
    "estimator = DBSCAN(eps=4, min_samples=10)  # 参数\n",
    "estimator.fit(tsne_data)  # 聚类\n",
    "label_pred = estimator.labels_  # 获取聚类标签\n",
    "print('DBSCAN聚类结果', set(label_pred))\n",
    "\n",
    "# 绘图\n",
    "func.show_2d_scatter(tsne_data, label_pred)"
   ]
  },
  {
   "cell_type": "code",
   "execution_count": null,
   "metadata": {},
   "outputs": [],
   "source": [
    "\"\"\"这段还没整理\"\"\"\n",
    "\n",
    "\n",
    "# 在时间线上标时聚类出来的异常音频段\n",
    "point_list = np.arange(len(tsne_data))[np.where(label_pred == -1)]\n",
    "\n",
    "time_point = np.zeros(shape=(len(tsne_data),), dtype=bool)\n",
    "time_point[point_list] = True\n",
    "\n",
    "analysis.show_1d_plot(time_point)\n",
    "\n",
    "\n",
    "# 截取异常音频段 前0.2s+异常声音+后0.4s 如果两个异常之间间隔小于2s则合并为一段音频\n",
    "# data, sr = analysis.read_audio_file(r'debug\\{:04d}.wav'.format(index))  # 读取音频文件\n",
    "data, sr = analysis.read_audio_file(r'output.wav'.format(index))  # 读取音频文件\n",
    "sample_size = sr//5\n",
    "\n",
    "index = 0\n",
    "while index < len(point_list) - 1:\n",
    "    point = point_list[index]\n",
    "    next_point = point_list[index+1]\n",
    "\n",
    "    start_point = (point - 1) * sample_size\n",
    "\n",
    "    while next_point - point <= 10 and index < len(point_list) - 2:  # 间隔时间小于2s\n",
    "        index += 1\n",
    "        point = point_list[index]\n",
    "        next_point = point_list[index + 1]\n",
    "\n",
    "    end_point = (point + 1 + 2) * sample_size\n",
    "\n",
    "    audio_data = data[start_point:end_point]\n",
    "    analysis.save_audio_file(r'.\\error_sound\\out_{:04d}.wav'.format(point), audio_data, sr)\n",
    "    index += 1\n"
   ]
  }
 ],
 "metadata": {
  "kernelspec": {
   "display_name": "Python 3",
   "language": "python",
   "name": "python3"
  },
  "language_info": {
   "codemirror_mode": {
    "name": "ipython",
    "version": 3
   },
   "file_extension": ".py",
   "mimetype": "text/x-python",
   "name": "python",
   "nbconvert_exporter": "python",
   "pygments_lexer": "ipython3",
   "version": "3.7.2"
  }
 },
 "nbformat": 4,
 "nbformat_minor": 2
}
