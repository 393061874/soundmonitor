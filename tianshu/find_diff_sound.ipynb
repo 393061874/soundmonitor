{
 "cells": [
  {
   "cell_type": "code",
   "execution_count": 3,
   "metadata": {},
   "outputs": [
    {
     "name": "stdout",
     "output_type": "stream",
     "text": [
      "分析文件 0000.wav\n",
      "读取音频文件 (9600000,) 16000\n",
      "切分 (3000, 3200)\n",
      "取到特征值 (3000, 32, 18)\n",
      "t-sne降维处理 (3000, 2)\n",
      "保存完成\n"
     ]
    }
   ],
   "source": [
    "import functions as func\n",
    "import numpy as np\n",
    "from sklearn.cluster import DBSCAN\n",
    "\n",
    "\n",
    "file_path = '0000.wav'  # 目标文件\n",
    "print('分析文件', file_path)\n",
    "\n",
    "# 读取音频文件\n",
    "data, sr = func.read_audio_file(file_path)\n",
    "print('读取音频文件', data.shape, sr)\n",
    "sample_size = sr // 5\n",
    "sample_number = len(data) // sample_size\n",
    "\n",
    "# 切分为0.2s的小段\n",
    "sample_list = data[:sample_size * sample_number].reshape((sample_number, sample_size))\n",
    "print('切分', sample_list.shape)\n",
    "\n",
    "# 取特征值\n",
    "mfcc_data = np.array([func.get_mfcc(sample, sr, 32) for sample in sample_list])\n",
    "print('取到特征值', mfcc_data.shape)\n",
    "\n",
    "# t-sne降维\n",
    "tsne_data = func.get_tsne(mfcc_data, 2)  # 降至2维\n",
    "print('t-sne降维处理', tsne_data.shape)\n",
    "\n",
    "# 计算结果存储为csv文件\n",
    "func.save_csv_file(tsne_data, 'temp.csv')\n",
    "print('保存完成')"
   ]
  },
  {
   "cell_type": "code",
   "execution_count": 1,
   "metadata": {
    "scrolled": false
   },
   "outputs": [
    {
     "name": "stdout",
     "output_type": "stream",
     "text": [
      "(3000, 2)\n",
      "读取音频文件 (9600000,) 16000\n"
     ]
    },
    {
     "data": {
      "application/vnd.jupyter.widget-view+json": {
       "model_id": "36de35b02957458493c38a21e4b593a5",
       "version_major": 2,
       "version_minor": 0
      },
      "text/plain": [
       "FigureWidget({\n",
       "    'data': [{'mode': 'markers',\n",
       "              'type': 'scatter',\n",
       "              'uid': 'c092ab7…"
      ]
     },
     "metadata": {},
     "output_type": "display_data"
    }
   ],
   "source": [
    "import functions as func\n",
    "import numpy as np\n",
    "from sklearn.cluster import DBSCAN\n",
    "\n",
    "\n",
    "# 加载csv文件内容\n",
    "tsne_data = func.read_csv_file('temp.csv')\n",
    "print(tsne_data.shape)\n",
    "\n",
    "# 读取音频文件\n",
    "file_path = '0000.wav'  # 目标文件\n",
    "data, sr = func.read_audio_file(file_path)\n",
    "print('读取音频文件', data.shape, sr)\n",
    "sample_size = sr // 5\n",
    "sample_number = len(data) // sample_size\n",
    "\n",
    "# 可交互式绘图\n",
    "import plotly.graph_objs as go\n",
    "import plotly as py\n",
    "\n",
    "f = go.FigureWidget([go.Scatter(x=tsne_data[:, 0], y=tsne_data[:, 1], mode='markers')])\n",
    "f.layout.hovermode = 'closest'  # 鼠标吸附到最近点\n",
    "\n",
    "def click_callback(trace, points, selector):\n",
    "    import functions\n",
    "    index = points.point_inds[0]\n",
    "    if 2 <= index <= sample_number - 2:\n",
    "        start = (index - 2) * sample_size\n",
    "        end = (index + 3) * sample_size\n",
    "        play = data[start: end]\n",
    "        func.play_audio(play, sr)  # 播放这一段音频数据\n",
    "        \n",
    "scatter = f.data[0]\n",
    "scatter.on_click(click_callback)\n",
    "f"
   ]
  },
  {
   "cell_type": "code",
   "execution_count": 5,
   "metadata": {},
   "outputs": [
    {
     "name": "stdout",
     "output_type": "stream",
     "text": [
      "读取音频文件 (9600000,) 16000\n",
      "DBSCAN聚类结果 {0, 1, 2, 3, -1}\n"
     ]
    },
    {
     "data": {
      "image/png": "[encoded data removed]",
      "text/plain": [
       "<Figure size 432x288 with 1 Axes>"
      ]
     },
     "metadata": {
      "needs_background": "light"
     },
     "output_type": "display_data"
    }
   ],
   "source": [
    "import functions as func\n",
    "import numpy as np\n",
    "from sklearn.cluster import DBSCAN\n",
    "\n",
    "\n",
    "# 加载csv文件内容\n",
    "tsne_data = func.read_csv_file('temp.csv')\n",
    "\n",
    "# 读取音频文件\n",
    "data, sr = func.read_audio_file(file_path)\n",
    "print('读取音频文件', data.shape, sr)\n",
    "sample_size = sr // 5\n",
    "sample_number = len(data) // sample_size\n",
    "\n",
    "# 聚类\n",
    "estimator = DBSCAN(eps=4, min_samples=10)  # 参数\n",
    "estimator.fit(tsne_data)  # 聚类\n",
    "label_pred = estimator.labels_  # 获取聚类标签\n",
    "print('DBSCAN聚类结果', set(label_pred))\n",
    "\n",
    "# 绘图\n",
    "func.show_2d_scatter(tsne_data, label_pred)"
   ]
  },
  {
   "cell_type": "code",
   "execution_count": 16,
   "metadata": {},
   "outputs": [
    {
     "name": "stdout",
     "output_type": "stream",
     "text": [
      "[   0    1    2    3    4    5    6    7    8    9   10   11   12   13\n",
      "   14   15   16   17   18   19   20   21   22   23   24   25   26   27\n",
      "   28   29   30   31   32   33   34   35   36   37   38   39   40   41\n",
      "   42   43   44   45   46   47   48   49   50   51   52   53   54   55\n",
      "   56   57   58   59   60   61   62   63   64   65   66   67   68   69\n",
      "   70   71   72   73   74   75   76   77   78   79   80   81   82   83\n",
      "   84   85   86   87   88   89   90   91   92   93   94   95   96   97\n",
      "   98   99  100  101  102  103  104  105  106  107  108  109  110  111\n",
      "  112  113  114  115  116  117  118  119  120  121  122  123  124  125\n",
      "  126  127  128  129  130  131  132  133  134  135  136  137  138  139\n",
      "  140  141  142  143  144  145  146  147  148  149  150  151  152  153\n",
      "  154  155  156  157  158  159  160  161  162  163  164  165  166  167\n",
      "  168  169  170  171  172  173  174  175  176  177  178  179  180  181\n",
      "  182  183  184  185  186  187  188  189  190  191  192  193  194  195\n",
      "  196  197  198  199  200  201  202  203  204  205  206  207  208  209\n",
      "  210  211  212  213  214  215  216  217  218  219  220  221  222  223\n",
      "  224  225  226  227  228  229  230  231  232  233  234  235  236  237\n",
      "  238  239  241  244  245  246  247  248  249  250  251  252  256  259\n",
      "  261  262  263  264  265  266  267  268  269  270  271  272  273  274\n",
      "  275  279  282  284  291  298  319  387  392  401  411  457  686  869\n",
      "  914  948 1035 1585 1752 1764 1802 1944 2389 2390 2579 2885 2905 2906]\n"
     ]
    },
    {
     "data": {
      "image/png": "[encoded data removed]",
      "text/plain": [
       "<Figure size 432x288 with 1 Axes>"
      ]
     },
     "metadata": {
      "needs_background": "light"
     },
     "output_type": "display_data"
    },
    {
     "name": "stdout",
     "output_type": "stream",
     "text": [
      "读取音频文件 (9600000,) 16000\n",
      "298 960000\n",
      "319 9600\n",
      "411 86400\n",
      "457 9600\n",
      "686 9600\n",
      "869 9600\n",
      "914 9600\n",
      "948 9600\n",
      "1035 9600\n",
      "1585 9600\n",
      "1752 9600\n",
      "1764 9600\n",
      "1802 9600\n",
      "1944 9600\n",
      "2390 12800\n",
      "2579 9600\n",
      "2885 9600\n",
      "2905 9600\n",
      "完成\n"
     ]
    }
   ],
   "source": [
    "import functions as func\n",
    "import numpy as np\n",
    "\n",
    "# 在时间线上标时聚类出来的异常音频段\n",
    "point_list = np.arange(len(tsne_data))[np.where(label_pred != 3)]\n",
    "print(point_list)\n",
    "\n",
    "time_point = np.zeros(shape=(len(tsne_data),), dtype=bool)\n",
    "time_point[point_list] = True\n",
    "\n",
    "func.show_1d_plot(time_point)\n",
    "\n",
    "\n",
    "# 截取异常音频段 前0.2s+异常声音+后0.2s 如果两个异常之间间隔小于2s则合并为一段音频\n",
    "# 读取音频文件\n",
    "data, sr = func.read_audio_file(file_path)\n",
    "print('读取音频文件', data.shape, sr)\n",
    "sample_size = sr // 5\n",
    "sample_number = len(data) // sample_size\n",
    "\n",
    "index = 0\n",
    "while index < len(point_list) - 1:\n",
    "    point = point_list[index]\n",
    "    next_point = point_list[index+1]\n",
    "\n",
    "    start_point = (point - 1) * sample_size\n",
    "    if(start_point < 0):\n",
    "        start_point = 0\n",
    "\n",
    "    while next_point - point <= 10 and index < len(point_list) - 2:  # 间隔时间小于2s\n",
    "        index += 1\n",
    "        point = point_list[index]\n",
    "        next_point = point_list[index + 1]\n",
    "\n",
    "    end_point = (point + 1 + 1) * sample_size\n",
    "\n",
    "    audio_data = data[start_point:end_point]\n",
    "    print(point, len(audio_data))\n",
    "    func.save_audio_file(r'.\\error_sound\\{:04d}.wav'.format(point), audio_data, sr)\n",
    "    index += 1\n",
    "\n",
    "print('完成')"
   ]
  },
  {
   "cell_type": "code",
   "execution_count": null,
   "metadata": {},
   "outputs": [],
   "source": []
  }
 ],
 "metadata": {
  "kernelspec": {
   "display_name": "Python 3",
   "language": "python",
   "name": "python3"
  },
  "language_info": {
   "codemirror_mode": {
    "name": "ipython",
    "version": 3
   },
   "file_extension": ".py",
   "mimetype": "text/x-python",
   "name": "python",
   "nbconvert_exporter": "python",
   "pygments_lexer": "ipython3",
   "version": "3.7.2"
  }
 },
 "nbformat": 4,
 "nbformat_minor": 2
}
