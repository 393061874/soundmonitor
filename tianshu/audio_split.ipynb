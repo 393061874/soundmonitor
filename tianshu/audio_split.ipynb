{
 "cells": [
  {
   "cell_type": "code",
   "execution_count": 23,
   "metadata": {},
   "outputs": [
    {
     "name": "stdout",
     "output_type": "stream",
     "text": [
      "358\n",
      "finish\n"
     ]
    }
   ],
   "source": [
    "import functions as func\n",
    "import numpy as np\n",
    "import os\n",
    "import shutil\n",
    "\n",
    "import subprocess as sp\n",
    "sampling_rate = 16000  # 采样率\n",
    "file_path = '201410112308001.MP3'\n",
    "\n",
    "# 这里直接使用命令行调用ffmpeg 大文件read_audio_file处理不了\n",
    "command = [\n",
    "    'ffmpeg',\n",
    "    '-i', file_path,\n",
    "    '-f', 's16le',  # 数据类型\n",
    "    '-acodec', 'pcm_s16le',  # 解码器\n",
    "    '-ar', str(sampling_rate),\n",
    "    '-ac', '1',  # 单通道\n",
    "    '-'  # 直接打印内容到控制台\n",
    "]\n",
    "# 开另一个进程跑ffmpeg\n",
    "p = sp.Popen(command, stdout=sp.PIPE, bufsize=4096, close_fds=True)\n",
    "\n",
    "\n",
    "# 这里拆分为10min一个文件\n",
    "seconds = 10 * 60\n",
    "\n",
    "if os.path.exists('split'):\n",
    "    shutil.rmtree('split')  # 递归删除文件夹及内容\n",
    "os.mkdir('split')\n",
    "index = 0\n",
    "while True:\n",
    "    print(str(index), end='\\r')  # 简略进度展示\n",
    "    data = p.stdout.read(sampling_rate * 2 * seconds)  # 流式获取 不必等待文件完全加载\n",
    "    if len(data) == 0:\n",
    "        break\n",
    "    audio_data = np.frombuffer(data, dtype=np.int16)  # 转为numpy类型\n",
    "    audio_data = audio_data.astype(np.float) / np.iinfo(np.int16).max  # 转为[-1, 1]\n",
    "    func.save_audio_file(r'split\\{:04d}.wav'.format(index), audio_data, sampling_rate)\n",
    "    index += 1\n",
    "print('\\nfinish')\n"
   ]
  },
  {
   "cell_type": "code",
   "execution_count": null,
   "metadata": {},
   "outputs": [],
   "source": []
  }
 ],
 "metadata": {
  "kernelspec": {
   "display_name": "Python 3",
   "language": "python",
   "name": "python3"
  },
  "language_info": {
   "codemirror_mode": {
    "name": "ipython",
    "version": 3
   },
   "file_extension": ".py",
   "mimetype": "text/x-python",
   "name": "python",
   "nbconvert_exporter": "python",
   "pygments_lexer": "ipython3",
   "version": "3.7.2"
  }
 },
 "nbformat": 4,
 "nbformat_minor": 2
}
