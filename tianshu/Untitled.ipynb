{
 "cells": [
  {
   "cell_type": "code",
   "execution_count": 6,
   "metadata": {},
   "outputs": [
    {
     "name": "stdout",
     "output_type": "stream",
     "text": [
      "中轴.MP3\n",
      "减速箱.MP3\n",
      "尾轴.MP3\n",
      "曲柄销.MP3\n",
      "正常电机.MP3\n",
      "皮带打滑.MP3\n",
      "皮带断空转.MP3\n",
      "驴头销.MP3\n"
     ]
    }
   ],
   "source": [
    "import functions as func\n",
    "import numpy as np\n",
    "import os\n",
    "\n",
    "path = r'.\\原始声音\\抽油机机械故障模拟_190515\\练1井声音采集20190515A'\n",
    "for file in os.listdir(path):\n",
    "    print(file)\n"
   ]
  },
  {
   "cell_type": "code",
   "execution_count": null,
   "metadata": {},
   "outputs": [],
   "source": []
  }
 ],
 "metadata": {
  "kernelspec": {
   "display_name": "Python 3",
   "language": "python",
   "name": "python3"
  },
  "language_info": {
   "codemirror_mode": {
    "name": "ipython",
    "version": 3
   },
   "file_extension": ".py",
   "mimetype": "text/x-python",
   "name": "python",
   "nbconvert_exporter": "python",
   "pygments_lexer": "ipython3",
   "version": "3.7.2"
  }
 },
 "nbformat": 4,
 "nbformat_minor": 2
}
